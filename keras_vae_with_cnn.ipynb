{
 "cells": [
  {
   "cell_type": "markdown",
   "metadata": {},
   "source": [
    "# Notebook 20: Variational autoencoder for the Ising Model with Keras"
   ]
  },
  {
   "cell_type": "markdown",
   "metadata": {},
   "source": [
    "# Learning Goal\n",
    "\n",
    "The goal of this notebook is to implement a VAE to learn a generative model for the 2D Ising model. The goal will be to understand how latent variables can capture physical quantities (such as the order parameter) and the effect of hyperparameters on VAE results.\n",
    "\n",
    "## Overview\n",
    "\n",
    "In this notebook, we will write a variational autoencoder (VAE) in Keras for the 2D Ising model dataset. The code in this notebook is adapted from (https://blog.keras.io/building-autoencoders-in-keras.html) and reproduces some of the results found in (https://arxiv.org/pdf/1703.02435.pdf). The goal of the notebook is to show how to implement a variational autoencoder in Keras in order to learn effective low-dimensional representations of equilibrium samples drawn from the 2D ferromagnetic Ising model with periodic boundary conditions.\n",
    "\n",
    "## Structure of the notebook\n",
    "The notebook is structured as follows.\n",
    "\n",
    " 1. We load in the Ising dataset\n",
    " 2. We construct the variational auto encoder model using Keras\n",
    " 3. We train the model on a training set and then visualize the latent representation\n",
    " 4. We compare the learned representation with the magnetization order parameter"
   ]
  },
  {
   "cell_type": "markdown",
   "metadata": {},
   "source": [
    "### Load the dataset"
   ]
  },
  {
   "cell_type": "code",
   "execution_count": 8,
   "metadata": {},
   "outputs": [],
   "source": [
    "import pickle\n",
    "from sklearn.model_selection import train_test_split\n",
    "import collections\n",
    "import matplotlib.pyplot as plt\n",
    "def load_data_set(root=\"IsingMC/\", train_size = 0.5):\n",
    "    \"\"\"Loads the Ising dataset in the format required for training the tensorflow VAE\n",
    "    \n",
    "    Parameters\n",
    "    -------\n",
    "    \n",
    "    root: str, default = \"IsingMC/\"\n",
    "        Location of the directory containing the Ising dataset\n",
    "    train_size: float, default = 0.5\n",
    "        Size ratio of the training set. 1-train_size corresponds to the test set size ratio.\n",
    "        \n",
    "    \"\"\"\n",
    "    # The Ising dataset contains 16*10000 samples taken in T=np.arange(0.25,4.0001,0.25)\n",
    "    data = pickle.load(open(root+'Ising2DFM_reSample_L40_T=All.pkl','rb'))\n",
    "    data = np.unpackbits(data).astype(int).reshape(-1,1600) # decompression of data and casting to int. \n",
    "    Y = np.hstack([t]*10000 for t in np.arange(0.25,4.01,0.25)) # labels\n",
    "\n",
    "    # Here we downsample the dataset and use 1000 samples at each temperature\n",
    "    tmp = np.arange(10000)\n",
    "    np.random.shuffle(tmp)\n",
    "    rand_idx=tmp[:10000]\n",
    "    \n",
    "    X = np.vstack(data[i*10000:(i+1)*10000][rand_idx] for i, _ in enumerate(np.arange(0.25,4.01,0.25)))\n",
    "    Y = np.hstack(Y[i*10000:(i+1)*10000][rand_idx] for i, _ in enumerate(np.arange(0.25,4.01,0.25)))\n",
    "    # Note that data is not currently shuffled\n",
    "    \n",
    "    return X, Y\n",
    "    "
   ]
  },
  {
   "cell_type": "markdown",
   "metadata": {},
   "source": [
    "## Constructing a VAE class\n",
    "\n",
    "Here, we implement the VAE in a slightly different way than we did for the MNIST dataset. We have chosen to create a new VAE class so that the parameters can be easily changed for new data. "
   ]
  },
  {
   "cell_type": "code",
   "execution_count": 9,
   "metadata": {},
   "outputs": [],
   "source": [
    "from __future__ import print_function\n",
    "import os\n",
    "import numpy as np\n",
    "\n",
    "from scipy.stats import norm\n",
    "\n",
    "from keras.layers import Input, Dense, Lambda\n",
    "from keras.models import Model\n",
    "from keras import backend as K\n",
    "from keras import metrics, losses\n",
    "from keras.datasets import mnist\n",
    "from keras import layers\n",
    "\n",
    "class VAE:\n",
    "    \n",
    "    def __init__(self, batch_size=100, original_dim =1600, latent_dim = 100, epochs=50, root=\"IsingMC/\", epsilon=0.5):\n",
    "        '''\n",
    "         #Reference\n",
    "         - Auto-Encoding Variational Bayes\n",
    "           https://arxiv.org/abs/1312.6114\n",
    "           This code is taken from Keras VAE tutorial available at https://blog.keras.io/building-autoencoders-in-keras.html\n",
    "        \n",
    "        Parameters\n",
    "        ----------\n",
    "        \n",
    "        batch_size : int, default=100\n",
    "            Size of batches for gradient descent\n",
    "        original_dim : int, default =1600\n",
    "            Number of features\n",
    "        latent_dim: int, default = 100\n",
    "            Dimensionality of the latent space\n",
    "        epochs: int, default = 50\n",
    "            Number of epochs for training\n",
    "        '''\n",
    "        self.batch_size = batch_size\n",
    "        self.original_dim = original_dim\n",
    "        self.latent_dim = latent_dim\n",
    "        self.intermediate_dim = 256\n",
    "        self.epochs = epochs\n",
    "        self.epsilon_std = epsilon\n",
    "    \n",
    "    def sampling(self, args):\n",
    "        ''' Sampling from the latent variables using the means and log-variances'''\n",
    "        z_mean, z_log_var = args\n",
    "        epsilon = K.random_normal(shape=(K.shape(z_mean)[0], self.latent_dim), mean=0.,\n",
    "                                  stddev=self.epsilon_std)\n",
    "        return z_mean + K.exp(z_log_var / 2) * epsilon\n",
    "\n",
    "    def build(self):\n",
    "        \"\"\" This class method constructs the VAE model\n",
    "        \"\"\"\n",
    "        original_dim = self.original_dim\n",
    "        latent_dim = self.latent_dim\n",
    "        intermediate_dim = self.intermediate_dim\n",
    "        \n",
    "        # encoder\n",
    "        self.x = Input(shape=(original_dim,))\n",
    "        m = int(np.sqrt(original_dim))\n",
    "        reshape_layer = layers.Reshape((m,m,1),input_shape = (original_dim,))(self.x)\n",
    "        \n",
    "        conv_comp = layers.Conv2D(16, (3, 3), activation='relu', padding='same')(reshape_layer)\n",
    "        conv_comp =  layers.MaxPooling2D((2,2),padding=\"same\")(conv_comp)\n",
    "        conv_comp = layers.Conv2D(8, (3, 3), activation='relu', padding='same')(conv_comp)\n",
    "        conv_comp =  layers.MaxPooling2D((2,2),padding=\"same\")(conv_comp)\n",
    "        conv_comp = layers.Conv2D(8, (3, 3), activation='relu', padding='same')(conv_comp)\n",
    "        conv_comp =  layers.MaxPooling2D((2,2),padding=\"same\")(conv_comp)\n",
    "        \n",
    "        flattened_layer = layers.Flatten()(conv_comp)\n",
    "        \n",
    "        pre_h = Dense(intermediate_dim, activation='relu')(flattened_layer)\n",
    "        hidden = Dense(intermediate_dim, activation = \"tanh\")(pre_h)\n",
    "        self.z_mean = Dense(latent_dim)(hidden)\n",
    "        self.z_log_var = Dense(latent_dim)(hidden)\n",
    "        \n",
    "        # note that \"output_shape\" isn't necessary with the TensorFlow backend\n",
    "        z = Lambda(self.sampling, output_shape=(latent_dim,))([self.z_mean, self.z_log_var])\n",
    "        \n",
    "        # we instantiate these layers separately so as to reuse them later\n",
    "        decoder_h = Dense(intermediate_dim, activation='relu')\n",
    "        m = int(np.sqrt(intermediate_dim))\n",
    "        \n",
    "        reshape_layer_deconv = layers.Reshape((m,m,1),input_shape= (intermediate_dim,))\n",
    "        conv_layer_deconv =  layers.Conv2D(4, (3, 3), activation='relu', padding='same')\n",
    "        flatten_layer_deconv = layers.Flatten()\n",
    "        decoder_mean = Dense(original_dim, activation='sigmoid')\n",
    "        \n",
    "        h_decoded = decoder_h(z)\n",
    "        h_decoded = reshape_layer_deconv(h_decoded)\n",
    "        h_decoded = conv_layer_deconv(h_decoded)\n",
    "        h_decoded = flatten_layer_deconv(h_decoded)\n",
    "        x_decoded_mean = decoder_mean(h_decoded)\n",
    "        \n",
    "        #decoder\n",
    "        decoder_input = Input(shape=(latent_dim,))\n",
    "        _h_decoded = decoder_h(decoder_input)\n",
    "        _h_decoded = reshape_layer_deconv(_h_decoded)\n",
    "        _h_decoded = conv_layer_deconv(_h_decoded)\n",
    "        _h_decoded = flatten_layer_deconv(_h_decoded)\n",
    "        _x_decoded_mean = decoder_mean(_h_decoded)\n",
    "        \n",
    "        self.generator = Model(decoder_input, _x_decoded_mean)\n",
    "\n",
    "        \n",
    "        # end-to-end VAE model\n",
    "        self.vae = Model(self.x, x_decoded_mean)\n",
    "        \n",
    "        # encoder, from inputs to latent space\n",
    "        self.encoder = Model(self.x, self.z_mean)\n",
    "        \n",
    "        \n",
    "        \n",
    "        \n",
    "        # decoder\n",
    "        #self.decoder = Model(decoder_input, _x_decoded_mean)\n",
    "        \n",
    "        # Compute VAE loss\n",
    "        self.vae.compile(optimizer='rmsprop', loss=self.vae_loss)\n",
    "        \n",
    "        # Prints a summary of the architecture used\n",
    "        self.vae.summary()\n",
    "        \n",
    "    def vae_loss(self, x, x_decoded_mean):\n",
    "            xent_loss = losses.binary_crossentropy(x, x_decoded_mean)\n",
    "            kl_loss = - 0.5 * K.mean(1 + self.z_log_var - K.square(self.z_mean) - K.exp(self.z_log_var), axis=-1)\n",
    "            return xent_loss + kl_loss\n",
    "        \n",
    "    def train(self, x_train, x_test):\n",
    "        from sklearn.preprocessing import minmax_scale\n",
    "        \n",
    "        x_train = x_train.reshape((len(x_train), np.prod(x_train.shape[1:]))) # flatten each sample out \n",
    "        x_test = x_test.reshape((len(x_test), np.prod(x_test.shape[1:])))\n",
    "        x_train = minmax_scale(x_train) # this step is required in order to use cross-entropy loss for reconstruction\n",
    "        x_test = minmax_scale(x_train) # scaling features in 0,1 interval\n",
    "        \n",
    "        \n",
    "        self.vae.fit(x_train, x_train,\n",
    "                shuffle=True,\n",
    "                epochs=self.epochs,\n",
    "                batch_size=self.batch_size,\n",
    "                validation_data=(x_test, x_test)\n",
    "                )\n",
    "\n",
    "        # build a model to project inputs on the latent space\n",
    "        #encoder = Model(self.x, self.z_mean)\n",
    "        \n",
    "    def predict_latent(self, xnew):\n",
    "        # build a model to project inputs on the latent space\n",
    "        return self.encoder.predict(xnew)\n",
    "    \n",
    "    def generate_decoding(self, znew):\n",
    "        # Generate new fantasy particles \n",
    "        return self.generator.predict(znew)"
   ]
  },
  {
   "cell_type": "markdown",
   "metadata": {},
   "source": [
    "## Load the 2D Ising dataset "
   ]
  },
  {
   "cell_type": "code",
   "execution_count": 10,
   "metadata": {},
   "outputs": [
    {
     "name": "stderr",
     "output_type": "stream",
     "text": [
      "<ipython-input-8-beb90f5a619d>:20: FutureWarning: arrays to stack must be passed as a \"sequence\" type such as list or tuple. Support for non-sequence iterables such as generators is deprecated as of NumPy 1.16 and will raise an error in the future.\n",
      "  Y = np.hstack([t]*10000 for t in np.arange(0.25,4.01,0.25)) # labels\n",
      "<ipython-input-8-beb90f5a619d>:27: FutureWarning: arrays to stack must be passed as a \"sequence\" type such as list or tuple. Support for non-sequence iterables such as generators is deprecated as of NumPy 1.16 and will raise an error in the future.\n",
      "  X = np.vstack(data[i*10000:(i+1)*10000][rand_idx] for i, _ in enumerate(np.arange(0.25,4.01,0.25)))\n",
      "<ipython-input-8-beb90f5a619d>:28: FutureWarning: arrays to stack must be passed as a \"sequence\" type such as list or tuple. Support for non-sequence iterables such as generators is deprecated as of NumPy 1.16 and will raise an error in the future.\n",
      "  Y = np.hstack(Y[i*10000:(i+1)*10000][rand_idx] for i, _ in enumerate(np.arange(0.25,4.01,0.25)))\n"
     ]
    }
   ],
   "source": [
    "# The y labels are the temperatures in np.arange(0.25,4.01,0.2) at which X was drawn\n",
    "\n",
    "#Directory where data is stored\n",
    "root=path_to_data=\"Ising_data/\"\n",
    "X, Y = load_data_set(root = root)"
   ]
  },
  {
   "cell_type": "code",
   "execution_count": 11,
   "metadata": {},
   "outputs": [
    {
     "data": {
      "text/plain": [
       "Text(0.5, 1.0, '138342')"
      ]
     },
     "execution_count": 11,
     "metadata": {},
     "output_type": "execute_result"
    },
    {
     "data": {
      "image/png": "[encoded data removed]",
      "text/plain": [
       "<Figure size 432x288 with 2 Axes>"
      ]
     },
     "metadata": {
      "needs_background": "light"
     },
     "output_type": "display_data"
    }
   ],
   "source": [
    "plt.figure()\n",
    "i = int(np.random.rand()*X.shape[0])\n",
    "xxx=X[i,:]\n",
    "plt.imshow((np.reshape(xxx,(40,40))))\n",
    "plt.colorbar()\n",
    "plt.title(i)"
   ]
  },
  {
   "cell_type": "code",
   "execution_count": 12,
   "metadata": {},
   "outputs": [],
   "source": [
    "from tensorflow.python.framework.ops import disable_eager_execution\n",
    "disable_eager_execution()"
   ]
  },
  {
   "cell_type": "markdown",
   "metadata": {},
   "source": [
    "## Construct a training and a validation set "
   ]
  },
  {
   "cell_type": "code",
   "execution_count": 13,
   "metadata": {},
   "outputs": [
    {
     "name": "stdout",
     "output_type": "stream",
     "text": [
      "(32000, 1600)\n"
     ]
    }
   ],
   "source": [
    "from sklearn.model_selection import train_test_split\n",
    "xtrain, xtest, ytrain, ytest = train_test_split(X, Y, test_size=0.8)\n",
    "print(xtrain.shape)"
   ]
  },
  {
   "cell_type": "markdown",
   "metadata": {},
   "source": [
    "## Construct and train the variational autoencoder model"
   ]
  },
  {
   "cell_type": "code",
   "execution_count": 14,
   "metadata": {},
   "outputs": [
    {
     "name": "stdout",
     "output_type": "stream",
     "text": [
      "Model: \"model_1\"\n",
      "__________________________________________________________________________________________________\n",
      "Layer (type)                    Output Shape         Param #     Connected to                     \n",
      "==================================================================================================\n",
      "input_2 (InputLayer)            [(None, 1600)]       0                                            \n",
      "__________________________________________________________________________________________________\n",
      "reshape_1 (Reshape)             (None, 40, 40, 1)    0           input_2[0][0]                    \n",
      "__________________________________________________________________________________________________\n",
      "conv2d_1 (Conv2D)               (None, 40, 40, 16)   160         reshape_1[0][0]                  \n",
      "__________________________________________________________________________________________________\n",
      "max_pooling2d (MaxPooling2D)    (None, 20, 20, 16)   0           conv2d_1[0][0]                   \n",
      "__________________________________________________________________________________________________\n",
      "conv2d_2 (Conv2D)               (None, 20, 20, 8)    1160        max_pooling2d[0][0]              \n",
      "__________________________________________________________________________________________________\n",
      "max_pooling2d_1 (MaxPooling2D)  (None, 10, 10, 8)    0           conv2d_2[0][0]                   \n",
      "__________________________________________________________________________________________________\n",
      "conv2d_3 (Conv2D)               (None, 10, 10, 8)    584         max_pooling2d_1[0][0]            \n",
      "__________________________________________________________________________________________________\n",
      "max_pooling2d_2 (MaxPooling2D)  (None, 5, 5, 8)      0           conv2d_3[0][0]                   \n",
      "__________________________________________________________________________________________________\n",
      "flatten (Flatten)               (None, 200)          0           max_pooling2d_2[0][0]            \n",
      "__________________________________________________________________________________________________\n",
      "dense (Dense)                   (None, 256)          51456       flatten[0][0]                    \n",
      "__________________________________________________________________________________________________\n",
      "dense_1 (Dense)                 (None, 256)          65792       dense[0][0]                      \n",
      "__________________________________________________________________________________________________\n",
      "dense_2 (Dense)                 (None, 2)            514         dense_1[0][0]                    \n",
      "__________________________________________________________________________________________________\n",
      "dense_3 (Dense)                 (None, 2)            514         dense_1[0][0]                    \n",
      "__________________________________________________________________________________________________\n",
      "lambda (Lambda)                 (None, 2)            0           dense_2[0][0]                    \n",
      "                                                                 dense_3[0][0]                    \n",
      "__________________________________________________________________________________________________\n",
      "dense_4 (Dense)                 (None, 256)          768         lambda[0][0]                     \n",
      "__________________________________________________________________________________________________\n",
      "reshape_2 (Reshape)             (None, 16, 16, 1)    0           dense_4[0][0]                    \n",
      "__________________________________________________________________________________________________\n",
      "conv2d_4 (Conv2D)               (None, 16, 16, 4)    40          reshape_2[0][0]                  \n",
      "__________________________________________________________________________________________________\n",
      "flatten_1 (Flatten)             (None, 1024)         0           conv2d_4[0][0]                   \n",
      "__________________________________________________________________________________________________\n",
      "dense_5 (Dense)                 (None, 1600)         1640000     flatten_1[0][0]                  \n",
      "==================================================================================================\n",
      "Total params: 1,760,988\n",
      "Trainable params: 1,760,988\n",
      "Non-trainable params: 0\n",
      "__________________________________________________________________________________________________\n",
      "Train on 32000 samples, validate on 32000 samples\n",
      "Epoch 1/5\n",
      "31900/32000 [============================>.] - ETA: 0s - loss: 0.5342"
     ]
    },
    {
     "name": "stderr",
     "output_type": "stream",
     "text": [
      "/home/hkallala/miniconda3/lib/python3.8/site-packages/tensorflow/python/keras/engine/training.py:2325: UserWarning: `Model.state_updates` will be removed in a future version. This property should not be used in TensorFlow 2.0, as `updates` are applied automatically.\n",
      "  warnings.warn('`Model.state_updates` will be removed in a future version. '\n"
     ]
    },
    {
     "name": "stdout",
     "output_type": "stream",
     "text": [
      "32000/32000 [==============================] - 13s 391us/sample - loss: 0.5339 - val_loss: 0.4768\n",
      "Epoch 2/5\n",
      "32000/32000 [==============================] - 12s 371us/sample - loss: 0.4752 - val_loss: 0.4657\n",
      "Epoch 3/5\n",
      "32000/32000 [==============================] - 12s 368us/sample - loss: 0.4584 - val_loss: 0.4463\n",
      "Epoch 4/5\n",
      "32000/32000 [==============================] - 12s 372us/sample - loss: 0.4489 - val_loss: 0.4474\n",
      "Epoch 5/5\n",
      "32000/32000 [==============================] - 12s 370us/sample - loss: 0.4466 - val_loss: 0.4500\n"
     ]
    }
   ],
   "source": [
    "model = VAE(epochs=5, latent_dim=2, epsilon=0.2) # Choose model parameters\n",
    "model.build() # Construct VAE model using Keras\n",
    "model.train(xtrain, xtest) # Trains VAE model based on custom loss function"
   ]
  },
  {
   "cell_type": "markdown",
   "metadata": {},
   "source": [
    "## Encoding samples to latent space:\n",
    "\n",
    "We predict the latent variable coordinates for the test set:"
   ]
  },
  {
   "cell_type": "code",
   "execution_count": 15,
   "metadata": {},
   "outputs": [
    {
     "name": "stdout",
     "output_type": "stream",
     "text": [
      "(128000, 2)\n"
     ]
    }
   ],
   "source": [
    "zpred = model.predict_latent(xtest)\n",
    "print(zpred.shape)"
   ]
  },
  {
   "cell_type": "markdown",
   "metadata": {},
   "source": [
    "Let's visualize this 2-dimensional space. We also color each sample according to the temperature at which it was drawn. The largest temperature is red ($T=4.0$) and lowest is blue ($T=0.25$)."
   ]
  },
  {
   "cell_type": "code",
   "execution_count": 16,
   "metadata": {},
   "outputs": [
    {
     "data": {
      "image/png": "[encoded data removed]",
      "text/plain": [
       "<Figure size 576x355.988 with 2 Axes>"
      ]
     },
     "metadata": {
      "needs_background": "light"
     },
     "output_type": "display_data"
    }
   ],
   "source": [
    "# To make plots pretty\n",
    "golden_size = lambda width: (width, 2. * width / (1 + np.sqrt(5)))\n",
    "\n",
    "\n",
    "\n",
    "%matplotlib inline\n",
    "import matplotlib.pyplot as plt\n",
    "plt.rc('font',**{'size':16})\n",
    "fig, ax = plt.subplots(1,figsize=golden_size(8))\n",
    "sc = ax.scatter(zpred[:,0], zpred[:,1], c=ytest/4.0, s=4, cmap=\"coolwarm\")\n",
    "ax.set_xlabel('First latent dimension of the VAE')\n",
    "ax.set_ylabel('Second latent dimension of the VAE')\n",
    "plt.colorbar(sc, label='$0.25\\\\times$Temperature')\n",
    "plt.savefig('VAE_ISING_latent.png')\n",
    "plt.show()"
   ]
  },
  {
   "cell_type": "markdown",
   "metadata": {},
   "source": [
    "## Understanding the latent space embeddings\n",
    "\n",
    "To better understand the latent space, we can plot each of the latent dimension coordinates against the corresponding magnetization of each sample.\n"
   ]
  },
  {
   "cell_type": "code",
   "execution_count": null,
   "metadata": {},
   "outputs": [],
   "source": [
    "plt.rc('font',**{'size':16})\n",
    "fig, ax = plt.subplots(1,2,figsize=(15,8))\n",
    "ax[0].scatter(zpred[:,0], np.mean(xtest, axis=1), c=ytest/4.0, s=2, cmap=\"coolwarm\")\n",
    "ax[0].set_xlabel('First latent dimension of the VAE')\n",
    "ax[0].set_ylabel('Magnetization')\n",
    "sc = ax[1].scatter(zpred[:,1], np.mean(xtest, axis=1), c=ytest/4.0, s=2, cmap=\"coolwarm\")\n",
    "ax[1].set_xlabel('Second latent dimension of the VAE')\n",
    "ax[1].set_ylabel('Magnetization')\n",
    "plt.colorbar(sc, label='$0.25\\\\times$Temperature')\n",
    "plt.savefig('VAE_ISING_latent_magnetization.png')\n",
    "plt.show()"
   ]
  },
  {
   "cell_type": "markdown",
   "metadata": {},
   "source": [
    "\n",
    "It appears that these dimensions are strongly correlated, meaning that the learned representation is effectively one-dimensional. This can be understood by the fact that in order to draw samples at high and low temperatures, we only require the information about the magnetization order parameter (we only have to draw samples from a factorized mean-field distribution):\n",
    "\\begin{equation}\n",
    "p(s_i=\\pm) = \\frac{1\\pm m}{2},\n",
    "\\end{equation}\n",
    "where $p(s_i=\\pm)$ is the probability that spin $i$ is up ($+$) or down ($-$), given that the magnetization sector is fixed.\n",
    "Note that this is not true in the vicinity of the critical point, where mean-field theory fails as the system develops long-range correlations.\n",
    "\n",
    "We see that the VAE correctly captures the structure of the data. The high-temperature samples cluster at intermediate values and the ordered samples with positive and negative magnetization cluster in opposite regions. This can be more effectively visualized using a 1-D histogram:"
   ]
  },
  {
   "cell_type": "code",
   "execution_count": null,
   "metadata": {},
   "outputs": [],
   "source": [
    "# Make histogram at the \n",
    "plt.hist(zpred[:,0],bins=50)\n",
    "plt.show()"
   ]
  },
  {
   "cell_type": "markdown",
   "metadata": {},
   "source": [
    "## Generating New Examples\n",
    "\n",
    "So far in this notebook, we have shown that the latent structure of VAEs can automatically identify order parameters. This is not surprising since even the first principle component in a PCA is essentially the magnetization. \n",
    "\n",
    "The interesting feature of VAEs is that they are also a generative model. We now ask how well the VAE can generate new examples. Our decoder returns probabilities for each pixel being 1. We then can draw random numbers to generate samples. This is done in the short function below.\n",
    "\n",
    "One again, as in the VAE MNIST notebook, we will sample our latent space togenerate the particles in two different ways\n",
    "\n",
    "* Sampling uniformally in the latent space \n",
    "* Sampling accounting for the fact that the latent space is Gaussian so that we expect most of the data points to be centered around (0,0) and fall off exponentially in all directions. This is done by transforming the uniform grid using the inverse Cumulative Distribution Function (CDF) for the Gaussian.\n"
   ]
  },
  {
   "cell_type": "code",
   "execution_count": null,
   "metadata": {},
   "outputs": [],
   "source": [
    "# Generate fantasy particles\n",
    "def generate_samples(model, z_input):\n",
    "    temp=model.generate_decoding(z_input).reshape(n*n,1600)\n",
    "    draws=np.random.uniform(size=temp.shape)\n",
    "    samples=np.array(draws<temp).astype(int)\n",
    "    return samples\n",
    "\n"
   ]
  },
  {
   "cell_type": "code",
   "execution_count": null,
   "metadata": {},
   "outputs": [],
   "source": []
  },
  {
   "cell_type": "code",
   "execution_count": null,
   "metadata": {},
   "outputs": [],
   "source": [
    "# display a 2D manifold of the images\n",
    "n = 5  # figure with 15x15 images\n",
    "quantile_min = 0.01\n",
    "quantile_max = 0.99\n",
    "latent_dim=2\n",
    "\n",
    "img_rows=40\n",
    "img_cols=40\n",
    "\n",
    "# Linear Sampling\n",
    "# we will sample n points within [-15, 15] standard deviations\n",
    "z1_u = np.linspace(5, -5, n)\n",
    "z2_u = np.linspace(5, -5, n)\n",
    "z_grid = np.dstack(np.meshgrid(z1_u, z2_u))\n",
    "z_input=np.array(z_grid.reshape(n*n, latent_dim))\n",
    "print(z_input.shape)\n",
    "x_pred_grid = generate_samples(model,z_input) \\\n",
    "                     .reshape(n, n, img_rows, img_cols)\n",
    "    \n",
    "print(x_pred_grid.shape)\n",
    "# Inverse CDF sampling\n",
    "z1 = norm.ppf(np.linspace(quantile_min, quantile_max, n))\n",
    "z2 = norm.ppf(np.linspace(quantile_max, quantile_min, n))\n",
    "z_grid2 = np.dstack(np.meshgrid(z1, z2))\n",
    "z_input=np.array(z_grid2.reshape(n*n, latent_dim))\n",
    "x_pred_grid2 = generate_samples(model,z_input) \\\n",
    "                     .reshape(n, n, img_rows, img_cols)\n",
    "\n",
    "    \n",
    "# Plot figure\n",
    "fig, ax = plt.subplots(figsize=golden_size(10))\n",
    "\n",
    "ax.imshow(np.block(list(map(list, x_pred_grid))), cmap='gray')\n",
    "\n",
    "ax.set_xticks(np.arange(0, n*img_rows, img_rows) + .5 * img_rows)\n",
    "ax.set_xticklabels(map('{:.2f}'.format, z1), rotation=90)\n",
    "\n",
    "ax.set_yticks(np.arange(0, n*img_cols, img_cols) + .5 * img_cols)\n",
    "ax.set_yticklabels(map('{:.2f}'.format, z2))\n",
    "\n",
    "ax.set_xlabel('$z_1$')\n",
    "ax.set_ylabel('$z_2$')\n",
    "ax.set_title('Uniform')\n",
    "ax.grid(False)\n",
    "\n",
    "\n",
    "plt.savefig('VAE_ISING_fantasy_uniform.pdf')\n",
    "plt.show()\n",
    "\n",
    "\n",
    "# Plot figure Inverse CDF sampling\n",
    "fig, ax = plt.subplots(figsize=golden_size(10))\n",
    "\n",
    "ax.imshow(np.block(list(map(list, x_pred_grid2))), cmap='gray_r', vmin=0, vmax=1)\n",
    "\n",
    "ax.set_xticks(np.arange(0, n*img_rows, img_rows) + .5 * img_rows)\n",
    "ax.set_xticklabels(map('{:.2f}'.format, z1), rotation=90)\n",
    "\n",
    "ax.set_yticks(np.arange(0, n*img_cols, img_cols) + .5 * img_cols)\n",
    "ax.set_yticklabels(map('{:.2f}'.format, z2))\n",
    "\n",
    "ax.set_xlabel('$z_1$')\n",
    "ax.set_ylabel('$z_2$')\n",
    "ax.set_title('Inverse CDF')\n",
    "ax.grid(False)\n",
    "plt.savefig('VAE_ISING_fantasy_invCDF.pdf')\n",
    "plt.show()\n"
   ]
  },
  {
   "cell_type": "markdown",
   "metadata": {},
   "source": [
    "## Examples fail to capture critial correlations\n",
    "\n",
    "We see that the examples look quite different from real Ising configurations -- they lack the large scale patchiness seen in the  critical region. They mostly turn out to be unstructured speckles that reflect only the average probability that a pixel is on in a region. This is not surprising since our VAE has no spatial structure and gets very little information about correlations in the binary cross-entropy which we use to measure reconstruction errors."
   ]
  },
  {
   "cell_type": "markdown",
   "metadata": {},
   "source": [
    "## Exercises\n",
    "\n",
    "* To gain more intuition for the VAE parameters, change $\\epsilon$. What happens when epsilon is $0.01$, $1$, $10$?\n",
    "* Change the number of latent dimensions to 1, or 10. Visualize the 10 dimensional latent space using PCA? Are the reconstructed samples and loss functions very different?\n",
    "* What do you think would happen for other spin systems where the order parameter is a vector such as nematically ordered materials?\n",
    "* Replace the decoder with a (de)convolutional net that includes spatial structure? Doe this improve the performance of the VAE for generating examples?"
   ]
  },
  {
   "cell_type": "code",
   "execution_count": null,
   "metadata": {},
   "outputs": [],
   "source": []
  },
  {
   "cell_type": "code",
   "execution_count": null,
   "metadata": {},
   "outputs": [],
   "source": []
  }
 ],
 "metadata": {
  "kernelspec": {
   "display_name": "Python 3",
   "language": "python",
   "name": "python3"
  },
  "language_info": {
   "codemirror_mode": {
    "name": "ipython",
    "version": 3
   },
   "file_extension": ".py",
   "mimetype": "text/x-python",
   "name": "python",
   "nbconvert_exporter": "python",
   "pygments_lexer": "ipython3",
   "version": "3.8.5"
  }
 },
 "nbformat": 4,
 "nbformat_minor": 2
}
