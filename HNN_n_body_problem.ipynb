{
 "cells": [
  {
   "cell_type": "code",
   "execution_count": 1,
   "metadata": {},
   "outputs": [],
   "source": [
    "import numpy as np\n",
    "import scipy.integrate\n",
    "import matplotlib.pyplot as plt\n",
    "from tqdm.notebook import tqdm\n",
    "from keras import Input, Model, regularizers\n",
    "from keras.datasets import mnist\n",
    "from keras.layers import Dense\n",
    "import time\n",
    "import matplotlib.pyplot as plt\n",
    "import numpy as np\n",
    "import tensorflow as tf\n",
    "from keras.layers import Activation\n",
    "from keras import backend as K\n",
    "from keras.utils.generic_utils import get_custom_objects\n",
    "from tensorflow.keras.losses import categorical_crossentropy, mean_squared_error\n",
    "from tensorflow.keras.optimizers import Adam\n",
    "import sys"
   ]
  },
  {
   "cell_type": "code",
   "execution_count": null,
   "metadata": {},
   "outputs": [],
   "source": []
  },
  {
   "cell_type": "code",
   "execution_count": 119,
   "metadata": {},
   "outputs": [],
   "source": [
    "n_bodies = 2\n",
    "G=1\n",
    "#problem is solved in 2D\n",
    "D=2\n",
    "masses = np.array([10**6,1]) #(0.5+np.random.rand(n_bodies))*10**2\n",
    "positions = np.random.rand(n_bodies*D)\n",
    "positions = np.array([0,0,110,200])\n",
    "\n",
    "momentums = np.array([0,0,1,2])#np.random.rand(n_bodies*D)\n",
    "def compute_derivative_hamiltonian(state,t,eval_der_p = True, eval_der_q = True):\n",
    "    q = state[0:n_bodies*D]\n",
    "    p = state[n_bodies*D::]\n",
    "    dh_dp = np.zeros(n_bodies*D)\n",
    "    dh_dq = np.zeros((n_bodies,D))\n",
    "    if(eval_der_p):\n",
    "        for k,b in enumerate(np.arange(0,dh_dp.size,D)):\n",
    "            dh_dp[b:b+2]=p[b:b+2]/masses[k]\n",
    "            \n",
    "    if(eval_der_q):\n",
    "        r = np.reshape(q,(n_bodies,D))\n",
    "        for b in range(n_bodies):\n",
    "            for dif in range(n_bodies):\n",
    "                if b!=dif:\n",
    "                    dh_dq[b,:] += G*masses[b]*masses[dif]/(np.linalg.norm(r[b,:]-r[dif,:]))**2*(r[b,:]-r[dif,:])\n",
    "        dh_dq = dh_dq.flatten()\n",
    "    \n",
    "    return dh_dp, dh_dq\n",
    "def symplectic_integrator(initial_state, dt, n_steps):\n",
    "    result = np.zeros((initial_state.size,n_steps))\n",
    "    result[:,0] = initial_state\n",
    "    half_dim = n_bodies*D\n",
    "    for i in tqdm(range(1,n_steps)):\n",
    "        dh_dp, dh_dq = compute_derivative_hamiltonian(result[:,i-1], 0, eval_der_p=False,eval_der_q=True  )\n",
    "        result[half_dim:,i] = result[half_dim:,i-1] - dt*dh_dq\n",
    "        dh_dp, dh_dq = compute_derivative_hamiltonian(result[:,i], 0, eval_der_p=True,eval_der_q=False  )\n",
    "        result[:half_dim,i] = result[half_dim:,i-1] + dt*dh_dp\n",
    "    return result"
   ]
  },
  {
   "cell_type": "code",
   "execution_count": 120,
   "metadata": {},
   "outputs": [],
   "source": [
    "initial_state = np.concatenate((positions,momentums))"
   ]
  },
  {
   "cell_type": "code",
   "execution_count": 121,
   "metadata": {},
   "outputs": [
    {
     "data": {
      "text/plain": [
       "(8,)"
      ]
     },
     "execution_count": 121,
     "metadata": {},
     "output_type": "execute_result"
    }
   ],
   "source": [
    "initial_state.shape"
   ]
  },
  {
   "cell_type": "code",
   "execution_count": 122,
   "metadata": {},
   "outputs": [
    {
     "data": {
      "application/vnd.jupyter.widget-view+json": {
       "model_id": "9d6307e3611e47d48c34e2f0160e025f",
       "version_major": 2,
       "version_minor": 0
      },
      "text/plain": [
       "HBox(children=(FloatProgress(value=0.0, max=9999.0), HTML(value='')))"
      ]
     },
     "metadata": {},
     "output_type": "display_data"
    },
    {
     "name": "stdout",
     "output_type": "stream",
     "text": [
      "\n"
     ]
    }
   ],
   "source": [
    "dt=0.01\n",
    "n_steps=10000\n",
    "rres = symplectic_integrator(initial_state, dt, n_steps)"
   ]
  },
  {
   "cell_type": "code",
   "execution_count": 123,
   "metadata": {},
   "outputs": [],
   "source": [
    "r1 = rres[0:2,:]"
   ]
  },
  {
   "cell_type": "code",
   "execution_count": 125,
   "metadata": {},
   "outputs": [
    {
     "data": {
      "text/plain": [
       "[<matplotlib.lines.Line2D at 0x17f57843ac0>]"
      ]
     },
     "execution_count": 125,
     "metadata": {},
     "output_type": "execute_result"
    },
    {
     "data": {
      "image/png": "[encoded data removed]",
      "text/plain": [
       "<Figure size 432x288 with 1 Axes>"
      ]
     },
     "metadata": {
      "needs_background": "light"
     },
     "output_type": "display_data"
    }
   ],
   "source": [
    "plt.plot(rres[0,:],rres[1,:] ,\"ro\")"
   ]
  },
  {
   "cell_type": "code",
   "execution_count": 40,
   "metadata": {},
   "outputs": [
    {
     "name": "stdout",
     "output_type": "stream",
     "text": [
      "[0.53920027 0.71964254]\n",
      "[0.68274215 0.58627353]\n",
      "[0.82783422 0.1962139 ]\n"
     ]
    }
   ],
   "source": [
    "for i in np.arange(0,aa.size,2):\n",
    "    print(aa[i:i+2])"
   ]
  },
  {
   "cell_type": "code",
   "execution_count": 31,
   "metadata": {},
   "outputs": [
    {
     "data": {
      "text/plain": [
       "array([0.53920027, 0.71964254, 0.68274215, 0.58627353, 0.82783422,\n",
       "       0.1962139 ])"
      ]
     },
     "execution_count": 31,
     "metadata": {},
     "output_type": "execute_result"
    }
   ],
   "source": [
    "a.flatten()"
   ]
  },
  {
   "cell_type": "code",
   "execution_count": 126,
   "metadata": {},
   "outputs": [
    {
     "data": {
      "text/plain": [
       "(3, 2)"
      ]
     },
     "execution_count": 126,
     "metadata": {},
     "output_type": "execute_result"
    }
   ],
   "source": [
    "a.shape"
   ]
  },
  {
   "cell_type": "code",
   "execution_count": null,
   "metadata": {},
   "outputs": [],
   "source": []
  }
 ],
 "metadata": {
  "kernelspec": {
   "display_name": "Python 3",
   "language": "python",
   "name": "python3"
  },
  "language_info": {
   "codemirror_mode": {
    "name": "ipython",
    "version": 3
   },
   "file_extension": ".py",
   "mimetype": "text/x-python",
   "name": "python",
   "nbconvert_exporter": "python",
   "pygments_lexer": "ipython3",
   "version": "3.8.3"
  }
 },
 "nbformat": 4,
 "nbformat_minor": 4
}
