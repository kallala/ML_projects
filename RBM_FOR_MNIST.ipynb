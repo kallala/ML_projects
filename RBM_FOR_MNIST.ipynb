{
 "cells": [
  {
   "cell_type": "code",
   "execution_count": 1,
   "metadata": {},
   "outputs": [],
   "source": [
    "import numpy as np\n",
    "import matplotlib.pyplot as plt\n",
    "import matplotlib\n",
    "import tensorflow as tf\n",
    "from IPython.display import clear_output\n",
    "from time import sleep\n",
    "from tqdm.notebook import tqdm"
   ]
  },
  {
   "cell_type": "code",
   "execution_count": 2,
   "metadata": {},
   "outputs": [],
   "source": [
    "%matplotlib inline"
   ]
  },
  {
   "cell_type": "code",
   "execution_count": null,
   "metadata": {},
   "outputs": [],
   "source": []
  },
  {
   "cell_type": "markdown",
   "metadata": {},
   "source": [
    "# Define basic functionalities of RBM"
   ]
  },
  {
   "cell_type": "code",
   "execution_count": 85,
   "metadata": {},
   "outputs": [],
   "source": [
    "\n",
    "\n",
    "\n",
    "def boltzmann_step(v, b,W, do_random_sampling = True):\n",
    "    h = W@v+b[:,None]\n",
    "    p = 1/(np.exp(-h)+1)\n",
    "    if(do_random_sampling):\n",
    "        temp = np.random.uniform(size=p.shape)\n",
    "        p = np.where(temp<=p,1,0)\n",
    "\n",
    "    return p\n",
    "\n",
    "\n",
    "\n",
    "    \n",
    "def BoltzmannSequence(v,c,b,W,drop_h_prime=False,do_random_sampling=True,\n",
    "                      do_not_sample_h_prime=False,\n",
    "                     do_not_sample_v_prime=False):\n",
    "    \n",
    "    h=boltzmann_step(v,b,W,do_random_sampling=do_random_sampling)\n",
    "    if do_not_sample_v_prime:\n",
    "        v_prime=boltzmann_step(h,c,W.T,do_random_sampling=False)\n",
    "    else:\n",
    "        v_prime=boltzmann_step(h,c,W.T,do_random_sampling=do_random_sampling)\n",
    "        \n",
    "    if  drop_h_prime:\n",
    "        h_prime=np.zeros(np.shape(h))\n",
    "    else:\n",
    "        if do_not_sample_h_prime: \n",
    "            h_prime=boltzmann_step(v_prime,b,W,do_random_sampling=False)\n",
    "        else:\n",
    "            h_prime=boltzmann_step(v_prime,b,W,do_random_sampling=do_random_sampling)\n",
    "        \n",
    "    return(v,h,v_prime,h_prime)\n",
    "\n",
    "def Train_step(v,c,b,W,do_random_sampling=True,do_not_sample_h_prime=False,\n",
    "             do_not_sample_v_prime=False):\n",
    "    \n",
    "    n_exampels = v.shape[-1]\n",
    "    \n",
    "    v,h,v_prime,h_prime=BoltzmannSequence(v,c,b,W,do_random_sampling=do_random_sampling,\n",
    "                                         do_not_sample_h_prime=do_not_sample_h_prime,\n",
    "                                         do_not_sample_v_prime=do_not_sample_v_prime)\n",
    "    \n",
    "    db = np.mean(h_prime - h, axis=-1)\n",
    "    dc = np.mean(v_prime - v, axis=-1)\n",
    "    dw = (h@v.T - h_prime@v_prime.T)/n_exampels\n",
    "    return(db,dc,dw)\n"
   ]
  },
  {
   "cell_type": "markdown",
   "metadata": {},
   "source": [
    "# Load Mnist data_set"
   ]
  },
  {
   "cell_type": "code",
   "execution_count": 51,
   "metadata": {},
   "outputs": [],
   "source": [
    "# Load the MNIST data using tensorflow/keras\n",
    "(X_train,y_train),(X_test,y_test)=tf.keras.datasets.mnist.load_data(path=\"mnist.npz\")\n",
    "\n",
    "X_train=X_train/256.\n",
    "X_train=X_train.T\n",
    "X_train=np.swapaxes(X_train,0,1)"
   ]
  },
  {
   "cell_type": "markdown",
   "metadata": {},
   "source": [
    "# Visualize data"
   ]
  },
  {
   "cell_type": "code",
   "execution_count": 52,
   "metadata": {},
   "outputs": [
    {
     "data": {
      "image/png": "[encoded data removed]",
      "text/plain": [
       "<Figure size 360x72 with 5 Axes>"
      ]
     },
     "metadata": {
      "needs_background": "light"
     },
     "output_type": "display_data"
    }
   ],
   "source": [
    "n_ims = 5\n",
    "fig, axes = plt.subplots(ncols=n_ims,nrows=1,figsize=(n_ims,1))\n",
    "for i in range(n_ims):\n",
    "    axes[i].imshow(X_train[:,:,i])\n",
    "    axes[i].axis('off')"
   ]
  },
  {
   "cell_type": "code",
   "execution_count": 53,
   "metadata": {},
   "outputs": [],
   "source": [
    "def apply_threshold_to_x_data(x_train,threshold):\n",
    "    result = np.where(x_train>threshold,1,0)\n",
    "    result=np.int_(result)\n",
    "    return result"
   ]
  },
  {
   "cell_type": "code",
   "execution_count": 54,
   "metadata": {},
   "outputs": [],
   "source": [
    "X_train_digitized = apply_threshold_to_x_data(X_train, threshold=0.7)"
   ]
  },
  {
   "cell_type": "code",
   "execution_count": 55,
   "metadata": {},
   "outputs": [
    {
     "data": {
      "image/png": "[encoded data removed]",
      "text/plain": [
       "<Figure size 360x72 with 5 Axes>"
      ]
     },
     "metadata": {
      "needs_background": "light"
     },
     "output_type": "display_data"
    }
   ],
   "source": [
    "n_ims = 5\n",
    "fig, axes = plt.subplots(ncols=n_ims,nrows=1,figsize=(n_ims,1))\n",
    "for i in range(n_ims):\n",
    "    axes[i].imshow(X_train_digitized[:,:,i])\n",
    "    axes[i].axis('off')"
   ]
  },
  {
   "cell_type": "markdown",
   "metadata": {},
   "source": [
    "# Training on digitized images"
   ]
  },
  {
   "cell_type": "code",
   "execution_count": 61,
   "metadata": {},
   "outputs": [],
   "source": [
    "batchsize = 128 \n",
    "n_train = 100\n",
    "n_vis = 28**2\n",
    "n_hid = 60\n",
    "total_number_of_examples = X_train.shape[-1]\n",
    "\n",
    "c=np.random.randn(n_vis)\n",
    "b=np.random.randn(n_hid)\n",
    "W=0.01*np.random.randn(n_hid,n_vis)\n",
    "alpha = 0.1\n"
   ]
  },
  {
   "cell_type": "code",
   "execution_count": 62,
   "metadata": {},
   "outputs": [
    {
     "data": {
      "application/vnd.jupyter.widget-view+json": {
       "model_id": "dad662bea6c0487a9e6f9756f8e13412",
       "version_major": 2,
       "version_minor": 0
      },
      "text/plain": [
       "HBox(children=(FloatProgress(value=0.0, max=10000.0), HTML(value='')))"
      ]
     },
     "metadata": {},
     "output_type": "display_data"
    },
    {
     "name": "stderr",
     "output_type": "stream",
     "text": [
      "<ipython-input-50-903b5a904726>:3: RuntimeWarning: overflow encountered in exp\n",
      "  p = 1/(np.exp(-h)+1)\n"
     ]
    },
    {
     "name": "stdout",
     "output_type": "stream",
     "text": [
      "\n"
     ]
    }
   ],
   "source": [
    "for epoch in tqdm(range(n_train)):\n",
    "    randindex = np.random.randint(low=0,high=total_number_of_examples,size=batchsize)\n",
    "    v=X_train_digitized[:,:,randindex]\n",
    "    v = np.reshape(v,(n_vis,batchsize))\n",
    "    db,dc,dw=Train_step(v,c,b,W)\n",
    "    b+=alpha*db\n",
    "    c+=alpha*dc\n",
    "    W+=alpha*dw"
   ]
  },
  {
   "cell_type": "code",
   "execution_count": 81,
   "metadata": {},
   "outputs": [],
   "source": [
    "batchsize = 128 \n",
    "n_train = 10000\n",
    "n_vis = 28**2\n",
    "n_hid = 60\n",
    "total_number_of_examples = X_train.shape[-1]\n",
    "\n",
    "c=np.random.randn(n_vis)\n",
    "b=np.random.randn(n_hid)\n",
    "W=0.01*np.random.randn(n_hid,n_vis)\n",
    "alpha = 0.1"
   ]
  },
  {
   "cell_type": "markdown",
   "metadata": {},
   "source": [
    "# Training but with Adam algorithm optimization"
   ]
  },
  {
   "cell_type": "code",
   "execution_count": 87,
   "metadata": {},
   "outputs": [
    {
     "data": {
      "application/vnd.jupyter.widget-view+json": {
       "model_id": "674e0ef4ff544765b9949339aa2ebcd3",
       "version_major": 2,
       "version_minor": 0
      },
      "text/plain": [
       "HBox(children=(FloatProgress(value=0.0, max=10000.0), HTML(value='')))"
      ]
     },
     "metadata": {},
     "output_type": "display_data"
    },
    {
     "name": "stderr",
     "output_type": "stream",
     "text": [
      "<ipython-input-85-903b5a904726>:3: RuntimeWarning: overflow encountered in exp\n",
      "  p = 1/(np.exp(-h)+1)\n"
     ]
    },
    {
     "name": "stdout",
     "output_type": "stream",
     "text": [
      "\n"
     ]
    },
    {
     "ename": "KeyboardInterrupt",
     "evalue": "",
     "output_type": "error",
     "traceback": [
      "\u001b[1;31m---------------------------------------------------------------------------\u001b[0m",
      "\u001b[1;31mKeyboardInterrupt\u001b[0m                         Traceback (most recent call last)",
      "\u001b[1;32m<ipython-input-87-dd9a2ffef564>\u001b[0m in \u001b[0;36m<module>\u001b[1;34m\u001b[0m\n\u001b[0;32m     16\u001b[0m     \u001b[0mv\u001b[0m\u001b[1;33m=\u001b[0m\u001b[0mX_train_digitized\u001b[0m\u001b[1;33m[\u001b[0m\u001b[1;33m:\u001b[0m\u001b[1;33m,\u001b[0m\u001b[1;33m:\u001b[0m\u001b[1;33m,\u001b[0m\u001b[0mrandindex\u001b[0m\u001b[1;33m]\u001b[0m\u001b[1;33m\u001b[0m\u001b[1;33m\u001b[0m\u001b[0m\n\u001b[0;32m     17\u001b[0m     \u001b[0mv\u001b[0m \u001b[1;33m=\u001b[0m \u001b[0mnp\u001b[0m\u001b[1;33m.\u001b[0m\u001b[0mreshape\u001b[0m\u001b[1;33m(\u001b[0m\u001b[0mv\u001b[0m\u001b[1;33m,\u001b[0m\u001b[1;33m(\u001b[0m\u001b[0mn_vis\u001b[0m\u001b[1;33m,\u001b[0m\u001b[0mbatchsize\u001b[0m\u001b[1;33m)\u001b[0m\u001b[1;33m)\u001b[0m\u001b[1;33m\u001b[0m\u001b[1;33m\u001b[0m\u001b[0m\n\u001b[1;32m---> 18\u001b[1;33m     \u001b[0mdb\u001b[0m\u001b[1;33m,\u001b[0m\u001b[0mdc\u001b[0m\u001b[1;33m,\u001b[0m\u001b[0mdw\u001b[0m\u001b[1;33m=\u001b[0m\u001b[0mTrain_step\u001b[0m\u001b[1;33m(\u001b[0m\u001b[0mv\u001b[0m\u001b[1;33m,\u001b[0m\u001b[0mc\u001b[0m\u001b[1;33m,\u001b[0m\u001b[0mb\u001b[0m\u001b[1;33m,\u001b[0m\u001b[0mW\u001b[0m\u001b[1;33m)\u001b[0m\u001b[1;33m\u001b[0m\u001b[1;33m\u001b[0m\u001b[0m\n\u001b[0m\u001b[0;32m     19\u001b[0m     \u001b[0madd_W\u001b[0m\u001b[1;33m,\u001b[0m \u001b[0mmt_W\u001b[0m\u001b[1;33m,\u001b[0m \u001b[0mst_W\u001b[0m\u001b[1;33m=\u001b[0m  \u001b[0mapply_one_adam_step\u001b[0m\u001b[1;33m(\u001b[0m\u001b[0mdw\u001b[0m\u001b[1;33m,\u001b[0m\u001b[0mmt_W\u001b[0m\u001b[1;33m,\u001b[0m\u001b[0mst_W\u001b[0m\u001b[1;33m)\u001b[0m\u001b[1;33m\u001b[0m\u001b[1;33m\u001b[0m\u001b[0m\n\u001b[0;32m     20\u001b[0m     \u001b[0madd_b\u001b[0m\u001b[1;33m,\u001b[0m \u001b[0mmt_b\u001b[0m\u001b[1;33m,\u001b[0m \u001b[0mst_b\u001b[0m \u001b[1;33m=\u001b[0m  \u001b[0mapply_one_adam_step\u001b[0m\u001b[1;33m(\u001b[0m\u001b[0mdb\u001b[0m\u001b[1;33m,\u001b[0m\u001b[0mmt_b\u001b[0m\u001b[1;33m,\u001b[0m\u001b[0mst_b\u001b[0m\u001b[1;33m)\u001b[0m\u001b[1;33m\u001b[0m\u001b[1;33m\u001b[0m\u001b[0m\n",
      "\u001b[1;32m<ipython-input-85-903b5a904726>\u001b[0m in \u001b[0;36mTrain_step\u001b[1;34m(v, c, b, W, do_random_sampling, do_not_sample_h_prime, do_not_sample_v_prime)\u001b[0m\n\u001b[0;32m     42\u001b[0m     \u001b[0mdb\u001b[0m \u001b[1;33m=\u001b[0m \u001b[0mnp\u001b[0m\u001b[1;33m.\u001b[0m\u001b[0mmean\u001b[0m\u001b[1;33m(\u001b[0m\u001b[0mh_prime\u001b[0m \u001b[1;33m-\u001b[0m \u001b[0mh\u001b[0m\u001b[1;33m,\u001b[0m \u001b[0maxis\u001b[0m\u001b[1;33m=\u001b[0m\u001b[1;33m-\u001b[0m\u001b[1;36m1\u001b[0m\u001b[1;33m)\u001b[0m\u001b[1;33m\u001b[0m\u001b[1;33m\u001b[0m\u001b[0m\n\u001b[0;32m     43\u001b[0m     \u001b[0mdc\u001b[0m \u001b[1;33m=\u001b[0m \u001b[0mnp\u001b[0m\u001b[1;33m.\u001b[0m\u001b[0mmean\u001b[0m\u001b[1;33m(\u001b[0m\u001b[0mv_prime\u001b[0m \u001b[1;33m-\u001b[0m \u001b[0mv\u001b[0m\u001b[1;33m,\u001b[0m \u001b[0maxis\u001b[0m\u001b[1;33m=\u001b[0m\u001b[1;33m-\u001b[0m\u001b[1;36m1\u001b[0m\u001b[1;33m)\u001b[0m\u001b[1;33m\u001b[0m\u001b[1;33m\u001b[0m\u001b[0m\n\u001b[1;32m---> 44\u001b[1;33m     \u001b[0mdw\u001b[0m \u001b[1;33m=\u001b[0m \u001b[1;33m(\u001b[0m\u001b[0mh\u001b[0m\u001b[1;33m@\u001b[0m\u001b[0mv\u001b[0m\u001b[1;33m.\u001b[0m\u001b[0mT\u001b[0m \u001b[1;33m-\u001b[0m \u001b[0mh_prime\u001b[0m\u001b[1;33m@\u001b[0m\u001b[0mv_prime\u001b[0m\u001b[1;33m.\u001b[0m\u001b[0mT\u001b[0m\u001b[1;33m)\u001b[0m\u001b[1;33m/\u001b[0m\u001b[0mn_exampels\u001b[0m\u001b[1;33m\u001b[0m\u001b[1;33m\u001b[0m\u001b[0m\n\u001b[0m\u001b[0;32m     45\u001b[0m     \u001b[1;32mreturn\u001b[0m\u001b[1;33m(\u001b[0m\u001b[0mdb\u001b[0m\u001b[1;33m,\u001b[0m\u001b[0mdc\u001b[0m\u001b[1;33m,\u001b[0m\u001b[0mdw\u001b[0m\u001b[1;33m)\u001b[0m\u001b[1;33m\u001b[0m\u001b[1;33m\u001b[0m\u001b[0m\n",
      "\u001b[1;31mKeyboardInterrupt\u001b[0m: "
     ]
    }
   ],
   "source": [
    "mt_W = st_W = 0*W\n",
    "mt_b =st_b  = 0*b\n",
    "mt_c  = st_c = 0*c\n",
    "epsilon = 1e-9; beta1 = 0.9; beta2 = 0.99; eta =  0.1\n",
    "def apply_one_adam_step(g,mt,st):\n",
    "    global epsilon, beta1, beta2, eta\n",
    "    mt = beta1*mt+(1-beta1)*g\n",
    "    mt_hat = mt/(1-beta1)\n",
    "    st = beta2*st+(1-beta2)*g**2\n",
    "    st_hat = st/(1-beta2)\n",
    "    incremental_term = eta*mt_hat/np.sqrt(st_hat + epsilon)\n",
    "    return (incremental_term, mt, st)\n",
    "\n",
    "for epoch in tqdm(range(n_train)):\n",
    "    randindex = np.random.randint(low=0,high=total_number_of_examples,size=batchsize)\n",
    "    v=X_train_digitized[:,:,randindex]\n",
    "    v = np.reshape(v,(n_vis,batchsize))\n",
    "    db,dc,dw=Train_step(v,c,b,W)\n",
    "    add_W, mt_W, st_W=  apply_one_adam_step(dw,mt_W,st_W)\n",
    "    add_b, mt_b, st_b =  apply_one_adam_step(db,mt_b,st_b)\n",
    "    add_c, mt_c, st_c =  apply_one_adam_step(dc,mt_c,st_c)\n",
    "    W+=add_W\n",
    "    b+=add_b\n",
    "    c+=add_c"
   ]
  },
  {
   "cell_type": "code",
   "execution_count": 84,
   "metadata": {},
   "outputs": [
    {
     "data": {
      "image/png": "[encoded data removed]",
      "text/plain": [
       "<Figure size 432x288 with 1 Axes>"
      ]
     },
     "metadata": {
      "needs_background": "light"
     },
     "output_type": "display_data"
    },
    {
     "name": "stdout",
     "output_type": "stream",
     "text": [
      "\n"
     ]
    }
   ],
   "source": [
    "nsteps=100\n",
    "test_samples=np.zeros([n_vis,n_hid])\n",
    "skipsteps=10\n",
    "substeps=10 # how many steps to take before showing a new picture\n",
    "\n",
    "v_prime=np.zeros(n_vis)\n",
    "h=np.zeros(n_hid)\n",
    "h_prime=np.zeros(n_hid)\n",
    "for j in tqdm(range(nsteps)):\n",
    "    for k in range(substeps):\n",
    "        v,h,v_prime,h_prime=BoltzmannSequence(v,c,b,W,drop_h_prime=True) # step from v via h to v_prime!\n",
    "    test_samples = v[:,1]\n",
    "    \n",
    "    v=np.copy(v_prime) # use the new v as a starting point for next step!\n",
    "    if j%skipsteps==0 or j==nsteps-1:\n",
    "        clear_output(wait=True)\n",
    "        plt.imshow(np.reshape(test_samples,(28,28)))\n",
    "        plt.title(j)\n",
    "        plt.pause(0.000001)\n",
    "        \n",
    "        "
   ]
  },
  {
   "cell_type": "code",
   "execution_count": 86,
   "metadata": {},
   "outputs": [
    {
     "data": {
      "text/plain": [
       "array([1, 1, 1, 1, 1, 1, 1, 1, 1, 1, 1, 1, 1, 1, 1, 1, 1, 1, 1, 1, 1, 1,\n",
       "       1, 1, 1, 1, 1, 1, 1, 1, 1, 1, 1, 1, 1, 1, 1, 1, 1, 1, 1, 1, 1, 1,\n",
       "       1, 1, 1, 1, 1, 1, 1, 1, 1, 1, 1, 1, 1, 1, 1, 1, 1, 1, 1, 1, 1, 1,\n",
       "       1, 1, 1, 1, 1, 1, 1, 1, 1, 1, 1, 1, 1, 1, 1, 1, 1, 1, 1, 1, 1, 1,\n",
       "       1, 1, 1, 1, 1, 1, 1, 1, 1, 1, 1, 1, 1, 1, 1, 1, 1, 1, 1, 1, 1, 1,\n",
       "       1, 1, 1, 1, 1, 1, 1, 1, 1, 1, 1, 1, 1, 1, 1, 1, 1, 1, 1, 1, 1, 1,\n",
       "       1, 1, 1, 1, 1, 1, 1, 1, 1, 1, 1, 1, 1, 1, 1, 1, 1, 1, 1, 1, 1, 1,\n",
       "       1, 1, 1, 1, 1, 1, 1, 1, 1, 1, 1, 1, 1, 1, 1, 1, 1, 1, 1, 1, 1, 1,\n",
       "       1, 1, 1, 1, 1, 1, 1, 1, 1, 1, 1, 1, 1, 1, 1, 1, 1, 1, 1, 1, 1, 1,\n",
       "       1, 1, 1, 1, 1, 1, 1, 1, 1, 1, 1, 1, 1, 1, 1, 1, 1, 1, 1, 1, 1, 1,\n",
       "       1, 1, 1, 1, 1, 1, 1, 1, 1, 1, 1, 1, 1, 1, 1, 1, 1, 1, 1, 1, 1, 1,\n",
       "       1, 1, 1, 1, 1, 1, 1, 1, 1, 1, 1, 1, 1, 1, 1, 1, 1, 1, 1, 1, 1, 1,\n",
       "       1, 1, 1, 1, 1, 1, 1, 1, 1, 1, 1, 1, 1, 1, 1, 1, 1, 1, 1, 1, 1, 1,\n",
       "       1, 1, 1, 1, 1, 1, 1, 1, 1, 1, 1, 1, 1, 1, 1, 1, 1, 1, 1, 1, 1, 1,\n",
       "       1, 1, 1, 1, 1, 1, 1, 1, 1, 1, 1, 1, 1, 1, 1, 1, 1, 1, 1, 1, 1, 1,\n",
       "       1, 1, 1, 1, 1, 1, 1, 1, 1, 1, 1, 1, 1, 1, 1, 1, 1, 1, 1, 1, 1, 1,\n",
       "       1, 1, 1, 1, 1, 1, 1, 1, 1, 1, 1, 1, 1, 1, 1, 1, 1, 1, 1, 1, 1, 1,\n",
       "       1, 1, 1, 1, 1, 1, 1, 1, 1, 1, 1, 1, 1, 1, 1, 1, 1, 1, 1, 1, 1, 1,\n",
       "       1, 1, 1, 1, 1, 1, 1, 1, 1, 1, 1, 1, 1, 1, 1, 1, 1, 1, 1, 1, 1, 1,\n",
       "       1, 1, 1, 1, 1, 1, 1, 1, 1, 1, 1, 1, 1, 1, 1, 1, 1, 1, 1, 1, 1, 1,\n",
       "       1, 1, 1, 1, 1, 1, 1, 1, 1, 1, 1, 1, 1, 1, 1, 1, 1, 1, 1, 1, 1, 1,\n",
       "       1, 1, 1, 1, 1, 1, 1, 1, 1, 1, 1, 1, 1, 1, 1, 1, 1, 1, 1, 1, 1, 1,\n",
       "       1, 1, 1, 1, 1, 1, 1, 1, 1, 1, 1, 1, 1, 1, 1, 1, 1, 1, 1, 1, 1, 1,\n",
       "       1, 1, 1, 1, 1, 1, 1, 1, 1, 1, 1, 1, 1, 1, 1, 1, 1, 1, 1, 1, 1, 1,\n",
       "       1, 1, 1, 1, 1, 1, 1, 1, 1, 1, 1, 1, 1, 1, 1, 1, 1, 1, 1, 1, 1, 1,\n",
       "       1, 1, 1, 1, 1, 1, 1, 1, 1, 1, 1, 1, 1, 1, 1, 1, 1, 1, 1, 1, 1, 1,\n",
       "       1, 1, 1, 1, 1, 1, 1, 1, 1, 1, 1, 1, 1, 1, 1, 1, 1, 1, 1, 1, 1, 1,\n",
       "       1, 1, 1, 1, 1, 1, 1, 1, 1, 1, 1, 1, 1, 1, 1, 1, 1, 1, 1, 1, 1, 1,\n",
       "       1, 1, 1, 1, 1, 1, 1, 1, 1, 1, 1, 1, 1, 1, 1, 1, 1, 1, 1, 1, 1, 1,\n",
       "       1, 1, 1, 1, 1, 1, 1, 1, 1, 1, 1, 1, 1, 1, 1, 1, 1, 1, 1, 1, 1, 1,\n",
       "       1, 1, 1, 1, 1, 1, 1, 1, 1, 1, 1, 1, 1, 1, 1, 1, 1, 1, 1, 1, 1, 1,\n",
       "       1, 1, 1, 1, 1, 1, 1, 1, 1, 1, 1, 1, 1, 1, 1, 1, 1, 1, 1, 1, 1, 1,\n",
       "       1, 1, 1, 1, 1, 1, 1, 1, 1, 1, 1, 1, 1, 1, 1, 1, 1, 1, 1, 1, 1, 1,\n",
       "       1, 1, 1, 1, 1, 1, 1, 1, 1, 1, 1, 1, 1, 1, 1, 1, 1, 1, 1, 1, 1, 1,\n",
       "       1, 1, 1, 1, 1, 1, 1, 1, 1, 1, 1, 1, 1, 1, 1, 1, 1, 1, 1, 1, 1, 1,\n",
       "       1, 1, 1, 1, 1, 1, 1, 1, 1, 1, 1, 1, 1, 1])"
      ]
     },
     "execution_count": 86,
     "metadata": {},
     "output_type": "execute_result"
    }
   ],
   "source": [
    "test_samples"
   ]
  },
  {
   "cell_type": "code",
   "execution_count": null,
   "metadata": {},
   "outputs": [],
   "source": []
  }
 ],
 "metadata": {
  "kernelspec": {
   "display_name": "Python 3",
   "language": "python",
   "name": "python3"
  },
  "language_info": {
   "codemirror_mode": {
    "name": "ipython",
    "version": 3
   },
   "file_extension": ".py",
   "mimetype": "text/x-python",
   "name": "python",
   "nbconvert_exporter": "python",
   "pygments_lexer": "ipython3",
   "version": "3.8.3"
  }
 },
 "nbformat": 4,
 "nbformat_minor": 4
}
