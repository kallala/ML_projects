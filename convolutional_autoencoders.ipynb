{
  "nbformat": 4,
  "nbformat_minor": 0,
  "metadata": {
    "kernelspec": {
      "display_name": "Python 3",
      "language": "python",
      "name": "python3"
    },
    "language_info": {
      "codemirror_mode": {
        "name": "ipython",
        "version": 3
      },
      "file_extension": ".py",
      "mimetype": "text/x-python",
      "name": "python",
      "nbconvert_exporter": "python",
      "pygments_lexer": "ipython3",
      "version": "3.8.3"
    },
    "colab": {
      "name": "convolutional_autoencoders.ipynb",
      "provenance": [],
      "collapsed_sections": []
    },
    "accelerator": "GPU"
  },
  "cells": [
    {
      "cell_type": "markdown",
      "metadata": {
        "id": "WStSbidtDzfD"
      },
      "source": [
        "# This is a convolutional neural net"
      ]
    },
    {
      "cell_type": "code",
      "metadata": {
        "id": "KcsmY_tnDzfs"
      },
      "source": [
        "from keras import Input, Model, regularizers\n",
        "from keras.datasets import mnist\n",
        "from keras.layers import Dense, Conv2D, MaxPooling2D, UpSampling2D\n",
        "import matplotlib.pyplot as plt\n",
        "import numpy as np\n",
        "import tensorflow as tf\n",
        "%matplotlib inline"
      ],
      "execution_count": 1,
      "outputs": []
    },
    {
      "cell_type": "code",
      "metadata": {
        "colab": {
          "base_uri": "https://localhost:8080/"
        },
        "id": "jpqoonR8D-Oe",
        "outputId": "c1258d88-8d87-4159-878f-7a51bc27eb90"
      },
      "source": [
        "print(\"Num GPUs Available: \", len(tf.config.experimental.list_physical_devices('GPU')))\r\n"
      ],
      "execution_count": 2,
      "outputs": [
        {
          "output_type": "stream",
          "text": [
            "Num GPUs Available:  1\n"
          ],
          "name": "stdout"
        }
      ]
    },
    {
      "cell_type": "code",
      "metadata": {
        "id": "TahxqVYeDzhb"
      },
      "source": [
        "input_img = Input(shape=(28, 28, 1))\n",
        "\n",
        "x = Conv2D(16, (3, 3), activation='relu', padding='same')(input_img)\n",
        "x = MaxPooling2D((2, 2), padding='same')(x)\n",
        "x = Conv2D(8, (3, 3), activation='relu', padding='same')(x)\n",
        "x = MaxPooling2D((2, 2), padding='same')(x)\n",
        "x = Conv2D(8, (3, 3), activation='relu', padding='same')(x)\n",
        "encoded = MaxPooling2D((2, 2), padding='same')(x)\n",
        "\n",
        "# at this point the representation is (4, 4, 8) i.e. 128-dimensional\n",
        "\n",
        "x = Conv2D(8, (3, 3), activation='relu', padding='same')(encoded)\n",
        "x = UpSampling2D((2, 2))(x)\n",
        "x = Conv2D(8, (3, 3), activation='relu', padding='same')(x)\n",
        "x = UpSampling2D((2, 2))(x)\n",
        "x = Conv2D(16, (3, 3), activation='relu')(x)\n",
        "x = UpSampling2D((2, 2))(x)\n",
        "decoded = Conv2D(1, (3, 3), activation='sigmoid', padding='same')(x)\n",
        "\n"
      ],
      "execution_count": 3,
      "outputs": []
    },
    {
      "cell_type": "code",
      "metadata": {
        "id": "yYuXZLMdDzhf"
      },
      "source": [
        "autoencoder = Model(input_img, decoded)\n",
        "autoencoder.compile(optimizer='adam', loss='binary_crossentropy')"
      ],
      "execution_count": 4,
      "outputs": []
    },
    {
      "cell_type": "code",
      "metadata": {
        "colab": {
          "base_uri": "https://localhost:8080/"
        },
        "id": "1kdHxMxpDzhg",
        "outputId": "e2b2be4c-4918-49ec-df43-6b7c78993fd6"
      },
      "source": [
        "#Load data\n",
        "(x_train, _), (x_test, _) = mnist.load_data()\n",
        "\n",
        "x_train = x_train.astype('float32') / 255.\n",
        "x_test = x_test.astype('float32') / 255.\n",
        "x_train = np.reshape(x_train, (len(x_train), 28, 28, 1))\n",
        "x_test = np.reshape(x_test, (len(x_test), 28, 28, 1))"
      ],
      "execution_count": 5,
      "outputs": [
        {
          "output_type": "stream",
          "text": [
            "Downloading data from https://storage.googleapis.com/tensorflow/tf-keras-datasets/mnist.npz\n",
            "11493376/11490434 [==============================] - 0s 0us/step\n"
          ],
          "name": "stdout"
        }
      ]
    },
    {
      "cell_type": "code",
      "metadata": {
        "colab": {
          "base_uri": "https://localhost:8080/"
        },
        "id": "UeRb089SDzhi",
        "outputId": "405711f2-5eb9-45a0-d1aa-ac5d6b92f8b7"
      },
      "source": [
        "history = autoencoder.fit(x_train, x_train,\n",
        "                epochs=50,\n",
        "                batch_size=128,\n",
        "                shuffle=True,\n",
        "                validation_data=(x_test, x_test))"
      ],
      "execution_count": 6,
      "outputs": [
        {
          "output_type": "stream",
          "text": [
            "Epoch 1/50\n",
            "469/469 [==============================] - 36s 7ms/step - loss: 0.3023 - val_loss: 0.1421\n",
            "Epoch 2/50\n",
            "469/469 [==============================] - 3s 6ms/step - loss: 0.1368 - val_loss: 0.1236\n",
            "Epoch 3/50\n",
            "469/469 [==============================] - 3s 5ms/step - loss: 0.1227 - val_loss: 0.1163\n",
            "Epoch 4/50\n",
            "469/469 [==============================] - 3s 6ms/step - loss: 0.1167 - val_loss: 0.1123\n",
            "Epoch 5/50\n",
            "469/469 [==============================] - 3s 6ms/step - loss: 0.1127 - val_loss: 0.1094\n",
            "Epoch 6/50\n",
            "469/469 [==============================] - 3s 6ms/step - loss: 0.1102 - val_loss: 0.1071\n",
            "Epoch 7/50\n",
            "469/469 [==============================] - 3s 6ms/step - loss: 0.1078 - val_loss: 0.1052\n",
            "Epoch 8/50\n",
            "469/469 [==============================] - 3s 5ms/step - loss: 0.1060 - val_loss: 0.1038\n",
            "Epoch 9/50\n",
            "469/469 [==============================] - 3s 6ms/step - loss: 0.1043 - val_loss: 0.1022\n",
            "Epoch 10/50\n",
            "469/469 [==============================] - 3s 6ms/step - loss: 0.1031 - val_loss: 0.1015\n",
            "Epoch 11/50\n",
            "469/469 [==============================] - 3s 6ms/step - loss: 0.1020 - val_loss: 0.1002\n",
            "Epoch 12/50\n",
            "469/469 [==============================] - 2s 5ms/step - loss: 0.1007 - val_loss: 0.0995\n",
            "Epoch 13/50\n",
            "469/469 [==============================] - 3s 6ms/step - loss: 0.1001 - val_loss: 0.0980\n",
            "Epoch 14/50\n",
            "469/469 [==============================] - 3s 5ms/step - loss: 0.0989 - val_loss: 0.0972\n",
            "Epoch 15/50\n",
            "469/469 [==============================] - 3s 6ms/step - loss: 0.0981 - val_loss: 0.0965\n",
            "Epoch 16/50\n",
            "469/469 [==============================] - 3s 6ms/step - loss: 0.0974 - val_loss: 0.0960\n",
            "Epoch 17/50\n",
            "469/469 [==============================] - 3s 5ms/step - loss: 0.0970 - val_loss: 0.0952\n",
            "Epoch 18/50\n",
            "469/469 [==============================] - 3s 6ms/step - loss: 0.0964 - val_loss: 0.0951\n",
            "Epoch 19/50\n",
            "469/469 [==============================] - 3s 6ms/step - loss: 0.0959 - val_loss: 0.0948\n",
            "Epoch 20/50\n",
            "469/469 [==============================] - 3s 6ms/step - loss: 0.0955 - val_loss: 0.0940\n",
            "Epoch 21/50\n",
            "469/469 [==============================] - 3s 6ms/step - loss: 0.0950 - val_loss: 0.0939\n",
            "Epoch 22/50\n",
            "469/469 [==============================] - 3s 5ms/step - loss: 0.0948 - val_loss: 0.0932\n",
            "Epoch 23/50\n",
            "469/469 [==============================] - 3s 6ms/step - loss: 0.0943 - val_loss: 0.0936\n",
            "Epoch 24/50\n",
            "469/469 [==============================] - 3s 6ms/step - loss: 0.0940 - val_loss: 0.0927\n",
            "Epoch 25/50\n",
            "469/469 [==============================] - 3s 5ms/step - loss: 0.0934 - val_loss: 0.0922\n",
            "Epoch 26/50\n",
            "469/469 [==============================] - 3s 5ms/step - loss: 0.0934 - val_loss: 0.0922\n",
            "Epoch 27/50\n",
            "469/469 [==============================] - 3s 6ms/step - loss: 0.0930 - val_loss: 0.0919\n",
            "Epoch 28/50\n",
            "469/469 [==============================] - 3s 5ms/step - loss: 0.0929 - val_loss: 0.0919\n",
            "Epoch 29/50\n",
            "469/469 [==============================] - 3s 6ms/step - loss: 0.0928 - val_loss: 0.0920\n",
            "Epoch 30/50\n",
            "469/469 [==============================] - 3s 6ms/step - loss: 0.0924 - val_loss: 0.0911\n",
            "Epoch 31/50\n",
            "469/469 [==============================] - 3s 6ms/step - loss: 0.0920 - val_loss: 0.0907\n",
            "Epoch 32/50\n",
            "469/469 [==============================] - 3s 6ms/step - loss: 0.0918 - val_loss: 0.0906\n",
            "Epoch 33/50\n",
            "469/469 [==============================] - 3s 5ms/step - loss: 0.0917 - val_loss: 0.0903\n",
            "Epoch 34/50\n",
            "469/469 [==============================] - 3s 6ms/step - loss: 0.0915 - val_loss: 0.0902\n",
            "Epoch 35/50\n",
            "469/469 [==============================] - 2s 5ms/step - loss: 0.0912 - val_loss: 0.0900\n",
            "Epoch 36/50\n",
            "469/469 [==============================] - 3s 6ms/step - loss: 0.0912 - val_loss: 0.0897\n",
            "Epoch 37/50\n",
            "469/469 [==============================] - 3s 6ms/step - loss: 0.0909 - val_loss: 0.0898\n",
            "Epoch 38/50\n",
            "469/469 [==============================] - 3s 5ms/step - loss: 0.0910 - val_loss: 0.0897\n",
            "Epoch 39/50\n",
            "469/469 [==============================] - 3s 5ms/step - loss: 0.0907 - val_loss: 0.0895\n",
            "Epoch 40/50\n",
            "469/469 [==============================] - 3s 6ms/step - loss: 0.0902 - val_loss: 0.0891\n",
            "Epoch 41/50\n",
            "469/469 [==============================] - 3s 6ms/step - loss: 0.0903 - val_loss: 0.0892\n",
            "Epoch 42/50\n",
            "469/469 [==============================] - 3s 6ms/step - loss: 0.0901 - val_loss: 0.0890\n",
            "Epoch 43/50\n",
            "469/469 [==============================] - 3s 6ms/step - loss: 0.0900 - val_loss: 0.0886\n",
            "Epoch 44/50\n",
            "469/469 [==============================] - 3s 5ms/step - loss: 0.0899 - val_loss: 0.0888\n",
            "Epoch 45/50\n",
            "469/469 [==============================] - 3s 6ms/step - loss: 0.0897 - val_loss: 0.0888\n",
            "Epoch 46/50\n",
            "469/469 [==============================] - 3s 6ms/step - loss: 0.0898 - val_loss: 0.0885\n",
            "Epoch 47/50\n",
            "469/469 [==============================] - 3s 6ms/step - loss: 0.0894 - val_loss: 0.0882\n",
            "Epoch 48/50\n",
            "469/469 [==============================] - 3s 6ms/step - loss: 0.0893 - val_loss: 0.0882\n",
            "Epoch 49/50\n",
            "469/469 [==============================] - 3s 6ms/step - loss: 0.0891 - val_loss: 0.0881\n",
            "Epoch 50/50\n",
            "469/469 [==============================] - 3s 5ms/step - loss: 0.0891 - val_loss: 0.0884\n"
          ],
          "name": "stdout"
        }
      ]
    },
    {
      "cell_type": "code",
      "metadata": {
        "colab": {
          "base_uri": "https://localhost:8080/",
          "height": 312
        },
        "id": "2VpLIGirDzhk",
        "outputId": "f1a5d525-6018-4eed-cb9b-0a05b7bc1b17"
      },
      "source": [
        "# summarize history for loss\r\n",
        "plt.figure()\r\n",
        "plt.plot(history.history['loss'])\r\n",
        "plt.plot(history.history['val_loss'])\r\n",
        "plt.title('model loss')\r\n",
        "plt.ylabel('loss')\r\n",
        "plt.xlabel('epoch')\r\n",
        "plt.legend(['train', 'test'], loc='upper left')"
      ],
      "execution_count": 7,
      "outputs": [
        {
          "output_type": "execute_result",
          "data": {
            "text/plain": [
              "<matplotlib.legend.Legend at 0x7f5f39dd7ed0>"
            ]
          },
          "metadata": {
            "tags": []
          },
          "execution_count": 7
        },
        {
          "output_type": "display_data",
          "data": {
            "image/png": "[encoded data removed]",
            "text/plain": [
              "<Figure size 432x288 with 1 Axes>"
            ]
          },
          "metadata": {
            "tags": [],
            "needs_background": "light"
          }
        }
      ]
    },
    {
      "cell_type": "code",
      "metadata": {
        "id": "2kUl4YhaDzhl"
      },
      "source": [
        "(x_train, _), (x_test, _) = mnist.load_data()\r\n",
        "\r\n",
        "x_train = x_train.astype('float32') / 255.\r\n",
        "x_test = x_test.astype('float32') / 255.\r\n",
        "x_train = np.reshape(x_train, (len(x_train), 28, 28, 1))\r\n",
        "x_test = np.reshape(x_test, (len(x_test), 28, 28, 1))\r\n",
        "\r\n",
        "noise_factor = 0.2\r\n",
        "x_train_noisy = x_train + noise_factor * np.random.normal(loc=0.0, scale=1.0, size=x_train.shape) \r\n",
        "x_test_noisy = x_test + noise_factor * np.random.normal(loc=0.0, scale=1.0, size=x_test.shape) \r\n",
        "\r\n",
        "x_train_noisy = np.clip(x_train_noisy, 0., 1.)\r\n",
        "x_test_noisy = np.clip(x_test_noisy, 0., 1.)"
      ],
      "execution_count": 24,
      "outputs": []
    },
    {
      "cell_type": "code",
      "metadata": {
        "colab": {
          "base_uri": "https://localhost:8080/",
          "height": 129
        },
        "id": "numZ25mUDzhm",
        "outputId": "d849d011-acc3-4eb1-de1e-f0b5f779bbdb"
      },
      "source": [
        "n = 10\r\n",
        "plt.figure(figsize=(20, 2))\r\n",
        "for i in range(1, n + 1):\r\n",
        "    ax = plt.subplot(1, n, i)\r\n",
        "    plt.imshow(x_test_noisy[i].reshape(28, 28))\r\n",
        "    plt.gray()\r\n",
        "    ax.get_xaxis().set_visible(False)\r\n",
        "    ax.get_yaxis().set_visible(False)\r\n",
        "plt.show()"
      ],
      "execution_count": 30,
      "outputs": [
        {
          "output_type": "display_data",
          "data": {
            "image/png": "[encoded data removed]",
            "text/plain": [
              "<Figure size 1440x144 with 10 Axes>"
            ]
          },
          "metadata": {
            "tags": [],
            "needs_background": "light"
          }
        }
      ]
    },
    {
      "cell_type": "code",
      "metadata": {
        "id": "ta8L6QlMFbRz"
      },
      "source": [
        "x_clean = autoencoder.predict(x_test_noisy)"
      ],
      "execution_count": 31,
      "outputs": []
    },
    {
      "cell_type": "code",
      "metadata": {
        "colab": {
          "base_uri": "https://localhost:8080/",
          "height": 129
        },
        "id": "3_BL15N2GEpF",
        "outputId": "5d0f5a8e-6bab-42a0-9fea-d2b90464c0c5"
      },
      "source": [
        "n = 10\r\n",
        "plt.figure(figsize=(20, 2))\r\n",
        "for i in range(1, n + 1):\r\n",
        "    ax = plt.subplot(1, n, i)\r\n",
        "    plt.imshow(x_clean[i].reshape(28, 28))\r\n",
        "    plt.gray()\r\n",
        "    ax.get_xaxis().set_visible(False)\r\n",
        "    ax.get_yaxis().set_visible(False)\r\n",
        "plt.show()"
      ],
      "execution_count": 32,
      "outputs": [
        {
          "output_type": "display_data",
          "data": {
            "image/png": "[encoded data removed]",
            "text/plain": [
              "<Figure size 1440x144 with 10 Axes>"
            ]
          },
          "metadata": {
            "tags": [],
            "needs_background": "light"
          }
        }
      ]
    },
    {
      "cell_type": "code",
      "metadata": {
        "id": "9Houo3oZGGXz"
      },
      "source": [
        ""
      ],
      "execution_count": null,
      "outputs": []
    }
  ]
}